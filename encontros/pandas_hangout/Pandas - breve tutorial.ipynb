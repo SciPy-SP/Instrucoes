{
 "cells": [
  {
   "cell_type": "markdown",
   "metadata": {},
   "source": [
    "# PANDAS - UMA BREVE INTRODUÇÃO\n",
    "\n",
    "Este é um breve tutorial de Pandas, dentro do contexto do Grupo de Estudos em programação científica com Python, SciPy SP.\n",
    "\n",
    "**Autor**: Patricia Novais\n",
    "\n",
    "Dezembro de 2016\n",
    "\n",
    "**---------------------------------------------------------------------**\n"
   ]
  },
  {
   "cell_type": "markdown",
   "metadata": {},
   "source": [
    "A primeira coisa a fazer é importar os pacotes necessários:\n"
   ]
  },
  {
   "cell_type": "code",
   "execution_count": 2,
   "metadata": {
    "collapsed": true
   },
   "outputs": [],
   "source": [
    "import numpy as np\n",
    "import pandas as pd\n",
    "import matplotlib.pyplot as plt"
   ]
  },
  {
   "cell_type": "markdown",
   "metadata": {},
   "source": [
    "Precisamos dizer ao Jupyter que os plots serão renderizados aqui:"
   ]
  },
  {
   "cell_type": "code",
   "execution_count": 3,
   "metadata": {
    "collapsed": true
   },
   "outputs": [],
   "source": [
    "%matplotlib inline"
   ]
  },
  {
   "cell_type": "markdown",
   "metadata": {},
   "source": [
    "## Abrindo os arquivos de dados\n",
    "\n",
    "O pandas possui várias opções de leitura de arquivo, que você pode conferir no link http://pandas.pydata.org/pandas-docs/stable/io.html\n",
    "\n",
    "Aqui, iremos utilizar apenas os comandos *read_table* e *read_csv* dependendo da extenção do nosso arquivo (Se .txt ou .csv)"
   ]
  },
  {
   "cell_type": "code",
   "execution_count": 4,
   "metadata": {
    "collapsed": true
   },
   "outputs": [],
   "source": [
    "df = pd.read_csv('scipy_example_pnovais.csv')"
   ]
  },
  {
   "cell_type": "markdown",
   "metadata": {},
   "source": [
    "## Visão geral dos dados\n",
    "\n",
    "Agora que o arquivo foi lido, podemos ter um *overview* dos dados, utilizando os comandos head(), tail() e describe()"
   ]
  },
  {
   "cell_type": "code",
   "execution_count": 7,
   "metadata": {
    "collapsed": false
   },
   "outputs": [
    {
     "data": {
      "text/html": [
       "<div>\n",
       "<table border=\"1\" class=\"dataframe\">\n",
       "  <thead>\n",
       "    <tr style=\"text-align: right;\">\n",
       "      <th></th>\n",
       "      <th>objID</th>\n",
       "      <th>u</th>\n",
       "      <th>g</th>\n",
       "      <th>r</th>\n",
       "      <th>i</th>\n",
       "      <th>z</th>\n",
       "    </tr>\n",
       "  </thead>\n",
       "  <tbody>\n",
       "    <tr>\n",
       "      <th>0</th>\n",
       "      <td>588848900971299281</td>\n",
       "      <td>22.55218</td>\n",
       "      <td>21.08744</td>\n",
       "      <td>20.28041</td>\n",
       "      <td>20.04251</td>\n",
       "      <td>19.37127</td>\n",
       "    </tr>\n",
       "    <tr>\n",
       "      <th>1</th>\n",
       "      <td>588848900971299282</td>\n",
       "      <td>22.67882</td>\n",
       "      <td>24.14491</td>\n",
       "      <td>21.37153</td>\n",
       "      <td>20.88683</td>\n",
       "      <td>21.16393</td>\n",
       "    </tr>\n",
       "    <tr>\n",
       "      <th>2</th>\n",
       "      <td>588848900971299284</td>\n",
       "      <td>21.53908</td>\n",
       "      <td>22.09095</td>\n",
       "      <td>20.81463</td>\n",
       "      <td>19.83287</td>\n",
       "      <td>22.76383</td>\n",
       "    </tr>\n",
       "    <tr>\n",
       "      <th>3</th>\n",
       "      <td>588848900971299285</td>\n",
       "      <td>22.57927</td>\n",
       "      <td>22.40949</td>\n",
       "      <td>21.69262</td>\n",
       "      <td>20.85991</td>\n",
       "      <td>19.54916</td>\n",
       "    </tr>\n",
       "    <tr>\n",
       "      <th>4</th>\n",
       "      <td>588848900971299286</td>\n",
       "      <td>22.34326</td>\n",
       "      <td>22.47549</td>\n",
       "      <td>21.70187</td>\n",
       "      <td>21.27564</td>\n",
       "      <td>24.48958</td>\n",
       "    </tr>\n",
       "  </tbody>\n",
       "</table>\n",
       "</div>"
      ],
      "text/plain": [
       "                objID         u         g         r         i         z\n",
       "0  588848900971299281  22.55218  21.08744  20.28041  20.04251  19.37127\n",
       "1  588848900971299282  22.67882  24.14491  21.37153  20.88683  21.16393\n",
       "2  588848900971299284  21.53908  22.09095  20.81463  19.83287  22.76383\n",
       "3  588848900971299285  22.57927  22.40949  21.69262  20.85991  19.54916\n",
       "4  588848900971299286  22.34326  22.47549  21.70187  21.27564  24.48958"
      ]
     },
     "execution_count": 7,
     "metadata": {},
     "output_type": "execute_result"
    }
   ],
   "source": [
    "df.head() # exibe as primeiras 5 linhas do dataframe"
   ]
  },
  {
   "cell_type": "code",
   "execution_count": 10,
   "metadata": {
    "collapsed": false
   },
   "outputs": [
    {
     "data": {
      "text/html": [
       "<div>\n",
       "<table border=\"1\" class=\"dataframe\">\n",
       "  <thead>\n",
       "    <tr style=\"text-align: right;\">\n",
       "      <th></th>\n",
       "      <th>objID</th>\n",
       "      <th>u</th>\n",
       "      <th>g</th>\n",
       "      <th>r</th>\n",
       "      <th>i</th>\n",
       "      <th>z</th>\n",
       "    </tr>\n",
       "  </thead>\n",
       "  <tbody>\n",
       "    <tr>\n",
       "      <th>995</th>\n",
       "      <td>588848900971561128</td>\n",
       "      <td>21.77360</td>\n",
       "      <td>20.50731</td>\n",
       "      <td>20.99524</td>\n",
       "      <td>18.81902</td>\n",
       "      <td>20.07818</td>\n",
       "    </tr>\n",
       "    <tr>\n",
       "      <th>996</th>\n",
       "      <td>588848900971561131</td>\n",
       "      <td>24.20203</td>\n",
       "      <td>22.59931</td>\n",
       "      <td>21.91894</td>\n",
       "      <td>23.26985</td>\n",
       "      <td>22.23001</td>\n",
       "    </tr>\n",
       "    <tr>\n",
       "      <th>997</th>\n",
       "      <td>588848900971561133</td>\n",
       "      <td>27.88187</td>\n",
       "      <td>24.20264</td>\n",
       "      <td>22.15804</td>\n",
       "      <td>21.01927</td>\n",
       "      <td>22.81669</td>\n",
       "    </tr>\n",
       "    <tr>\n",
       "      <th>998</th>\n",
       "      <td>588848900971561134</td>\n",
       "      <td>26.54534</td>\n",
       "      <td>22.41273</td>\n",
       "      <td>21.62476</td>\n",
       "      <td>21.25577</td>\n",
       "      <td>21.04195</td>\n",
       "    </tr>\n",
       "    <tr>\n",
       "      <th>999</th>\n",
       "      <td>588848900971561142</td>\n",
       "      <td>24.82389</td>\n",
       "      <td>19.18991</td>\n",
       "      <td>18.09366</td>\n",
       "      <td>17.92763</td>\n",
       "      <td>17.69641</td>\n",
       "    </tr>\n",
       "  </tbody>\n",
       "</table>\n",
       "</div>"
      ],
      "text/plain": [
       "                  objID         u         g         r         i         z\n",
       "995  588848900971561128  21.77360  20.50731  20.99524  18.81902  20.07818\n",
       "996  588848900971561131  24.20203  22.59931  21.91894  23.26985  22.23001\n",
       "997  588848900971561133  27.88187  24.20264  22.15804  21.01927  22.81669\n",
       "998  588848900971561134  26.54534  22.41273  21.62476  21.25577  21.04195\n",
       "999  588848900971561142  24.82389  19.18991  18.09366  17.92763  17.69641"
      ]
     },
     "execution_count": 10,
     "metadata": {},
     "output_type": "execute_result"
    }
   ],
   "source": [
    "df.tail() # exibe as últimas 5 linhas do dataframe"
   ]
  },
  {
   "cell_type": "code",
   "execution_count": 11,
   "metadata": {
    "collapsed": false
   },
   "outputs": [
    {
     "data": {
      "text/html": [
       "<div>\n",
       "<table border=\"1\" class=\"dataframe\">\n",
       "  <thead>\n",
       "    <tr style=\"text-align: right;\">\n",
       "      <th></th>\n",
       "      <th>objID</th>\n",
       "      <th>u</th>\n",
       "      <th>g</th>\n",
       "      <th>r</th>\n",
       "      <th>i</th>\n",
       "      <th>z</th>\n",
       "    </tr>\n",
       "  </thead>\n",
       "  <tbody>\n",
       "    <tr>\n",
       "      <th>count</th>\n",
       "      <td>1.000000e+03</td>\n",
       "      <td>1000.000000</td>\n",
       "      <td>1000.000000</td>\n",
       "      <td>1000.000000</td>\n",
       "      <td>1000.000000</td>\n",
       "      <td>1000.000000</td>\n",
       "    </tr>\n",
       "    <tr>\n",
       "      <th>mean</th>\n",
       "      <td>5.888489e+17</td>\n",
       "      <td>23.494416</td>\n",
       "      <td>22.421346</td>\n",
       "      <td>21.162885</td>\n",
       "      <td>21.070447</td>\n",
       "      <td>20.603184</td>\n",
       "    </tr>\n",
       "    <tr>\n",
       "      <th>std</th>\n",
       "      <td>7.197984e+04</td>\n",
       "      <td>1.871991</td>\n",
       "      <td>1.455900</td>\n",
       "      <td>1.096750</td>\n",
       "      <td>1.821276</td>\n",
       "      <td>1.745293</td>\n",
       "    </tr>\n",
       "    <tr>\n",
       "      <th>min</th>\n",
       "      <td>5.888489e+17</td>\n",
       "      <td>17.648830</td>\n",
       "      <td>15.364420</td>\n",
       "      <td>14.378490</td>\n",
       "      <td>13.892320</td>\n",
       "      <td>13.582260</td>\n",
       "    </tr>\n",
       "    <tr>\n",
       "      <th>25%</th>\n",
       "      <td>5.888489e+17</td>\n",
       "      <td>22.186037</td>\n",
       "      <td>21.777965</td>\n",
       "      <td>20.711615</td>\n",
       "      <td>20.217710</td>\n",
       "      <td>19.676517</td>\n",
       "    </tr>\n",
       "    <tr>\n",
       "      <th>50%</th>\n",
       "      <td>5.888489e+17</td>\n",
       "      <td>23.057755</td>\n",
       "      <td>22.410130</td>\n",
       "      <td>21.373365</td>\n",
       "      <td>20.939620</td>\n",
       "      <td>20.328020</td>\n",
       "    </tr>\n",
       "    <tr>\n",
       "      <th>75%</th>\n",
       "      <td>5.888489e+17</td>\n",
       "      <td>24.627623</td>\n",
       "      <td>23.004250</td>\n",
       "      <td>21.793685</td>\n",
       "      <td>21.518805</td>\n",
       "      <td>21.240655</td>\n",
       "    </tr>\n",
       "    <tr>\n",
       "      <th>max</th>\n",
       "      <td>5.888489e+17</td>\n",
       "      <td>30.902530</td>\n",
       "      <td>31.013420</td>\n",
       "      <td>30.592960</td>\n",
       "      <td>31.477660</td>\n",
       "      <td>29.166450</td>\n",
       "    </tr>\n",
       "  </tbody>\n",
       "</table>\n",
       "</div>"
      ],
      "text/plain": [
       "              objID            u            g            r            i  \\\n",
       "count  1.000000e+03  1000.000000  1000.000000  1000.000000  1000.000000   \n",
       "mean   5.888489e+17    23.494416    22.421346    21.162885    21.070447   \n",
       "std    7.197984e+04     1.871991     1.455900     1.096750     1.821276   \n",
       "min    5.888489e+17    17.648830    15.364420    14.378490    13.892320   \n",
       "25%    5.888489e+17    22.186037    21.777965    20.711615    20.217710   \n",
       "50%    5.888489e+17    23.057755    22.410130    21.373365    20.939620   \n",
       "75%    5.888489e+17    24.627623    23.004250    21.793685    21.518805   \n",
       "max    5.888489e+17    30.902530    31.013420    30.592960    31.477660   \n",
       "\n",
       "                 z  \n",
       "count  1000.000000  \n",
       "mean     20.603184  \n",
       "std       1.745293  \n",
       "min      13.582260  \n",
       "25%      19.676517  \n",
       "50%      20.328020  \n",
       "75%      21.240655  \n",
       "max      29.166450  "
      ]
     },
     "execution_count": 11,
     "metadata": {},
     "output_type": "execute_result"
    }
   ],
   "source": [
    "df.describe() #faz uma breve descrição dos dados, através de média, min, max, desvio padrão..."
   ]
  },
  {
   "cell_type": "markdown",
   "metadata": {},
   "source": [
    "## Criando condições, fatiando, unindo...\n",
    "\n",
    "\n",
    "Todos os comandos acima podem ser executados dado uma certa condição:"
   ]
  },
  {
   "cell_type": "code",
   "execution_count": 17,
   "metadata": {
    "collapsed": false
   },
   "outputs": [
    {
     "data": {
      "text/html": [
       "<div>\n",
       "<table border=\"1\" class=\"dataframe\">\n",
       "  <thead>\n",
       "    <tr style=\"text-align: right;\">\n",
       "      <th></th>\n",
       "      <th>objID</th>\n",
       "      <th>u</th>\n",
       "      <th>g</th>\n",
       "      <th>r</th>\n",
       "      <th>i</th>\n",
       "      <th>z</th>\n",
       "    </tr>\n",
       "  </thead>\n",
       "  <tbody>\n",
       "    <tr>\n",
       "      <th>1</th>\n",
       "      <td>588848900971299282</td>\n",
       "      <td>22.67882</td>\n",
       "      <td>24.14491</td>\n",
       "      <td>21.37153</td>\n",
       "      <td>20.88683</td>\n",
       "      <td>21.16393</td>\n",
       "    </tr>\n",
       "    <tr>\n",
       "      <th>3</th>\n",
       "      <td>588848900971299285</td>\n",
       "      <td>22.57927</td>\n",
       "      <td>22.40949</td>\n",
       "      <td>21.69262</td>\n",
       "      <td>20.85991</td>\n",
       "      <td>19.54916</td>\n",
       "    </tr>\n",
       "    <tr>\n",
       "      <th>4</th>\n",
       "      <td>588848900971299286</td>\n",
       "      <td>22.34326</td>\n",
       "      <td>22.47549</td>\n",
       "      <td>21.70187</td>\n",
       "      <td>21.27564</td>\n",
       "      <td>24.48958</td>\n",
       "    </tr>\n",
       "    <tr>\n",
       "      <th>5</th>\n",
       "      <td>588848900971299290</td>\n",
       "      <td>24.12965</td>\n",
       "      <td>23.06622</td>\n",
       "      <td>21.27620</td>\n",
       "      <td>20.61665</td>\n",
       "      <td>20.08728</td>\n",
       "    </tr>\n",
       "    <tr>\n",
       "      <th>7</th>\n",
       "      <td>588848900971299296</td>\n",
       "      <td>24.47968</td>\n",
       "      <td>22.36202</td>\n",
       "      <td>21.66306</td>\n",
       "      <td>21.68572</td>\n",
       "      <td>22.54993</td>\n",
       "    </tr>\n",
       "  </tbody>\n",
       "</table>\n",
       "</div>"
      ],
      "text/plain": [
       "                objID         u         g         r         i         z\n",
       "1  588848900971299282  22.67882  24.14491  21.37153  20.88683  21.16393\n",
       "3  588848900971299285  22.57927  22.40949  21.69262  20.85991  19.54916\n",
       "4  588848900971299286  22.34326  22.47549  21.70187  21.27564  24.48958\n",
       "5  588848900971299290  24.12965  23.06622  21.27620  20.61665  20.08728\n",
       "7  588848900971299296  24.47968  22.36202  21.66306  21.68572  22.54993"
      ]
     },
     "execution_count": 17,
     "metadata": {},
     "output_type": "execute_result"
    }
   ],
   "source": [
    "df[(df.u > 22) & (df.g > 22)].head() # imprime as 5 primeiras linhas dos dados cujo valor de *u* seja maior do que 22"
   ]
  },
  {
   "cell_type": "code",
   "execution_count": 16,
   "metadata": {
    "collapsed": false
   },
   "outputs": [
    {
     "data": {
      "text/html": [
       "<div>\n",
       "<table border=\"1\" class=\"dataframe\">\n",
       "  <thead>\n",
       "    <tr style=\"text-align: right;\">\n",
       "      <th></th>\n",
       "      <th>objID</th>\n",
       "      <th>u</th>\n",
       "      <th>g</th>\n",
       "      <th>r</th>\n",
       "      <th>i</th>\n",
       "      <th>z</th>\n",
       "    </tr>\n",
       "  </thead>\n",
       "  <tbody>\n",
       "    <tr>\n",
       "      <th>count</th>\n",
       "      <td>6.240000e+02</td>\n",
       "      <td>624.000000</td>\n",
       "      <td>624.000000</td>\n",
       "      <td>624.000000</td>\n",
       "      <td>624.000000</td>\n",
       "      <td>624.000000</td>\n",
       "    </tr>\n",
       "    <tr>\n",
       "      <th>mean</th>\n",
       "      <td>5.888489e+17</td>\n",
       "      <td>24.071664</td>\n",
       "      <td>23.020400</td>\n",
       "      <td>21.599214</td>\n",
       "      <td>21.488588</td>\n",
       "      <td>21.043922</td>\n",
       "    </tr>\n",
       "    <tr>\n",
       "      <th>std</th>\n",
       "      <td>7.491249e+04</td>\n",
       "      <td>1.591710</td>\n",
       "      <td>1.017580</td>\n",
       "      <td>0.543982</td>\n",
       "      <td>1.422116</td>\n",
       "      <td>1.507475</td>\n",
       "    </tr>\n",
       "    <tr>\n",
       "      <th>min</th>\n",
       "      <td>5.888489e+17</td>\n",
       "      <td>22.012680</td>\n",
       "      <td>22.004320</td>\n",
       "      <td>18.470430</td>\n",
       "      <td>18.353240</td>\n",
       "      <td>18.060610</td>\n",
       "    </tr>\n",
       "    <tr>\n",
       "      <th>25%</th>\n",
       "      <td>5.888489e+17</td>\n",
       "      <td>22.747073</td>\n",
       "      <td>22.391710</td>\n",
       "      <td>21.278022</td>\n",
       "      <td>20.744808</td>\n",
       "      <td>20.075865</td>\n",
       "    </tr>\n",
       "    <tr>\n",
       "      <th>50%</th>\n",
       "      <td>5.888489e+17</td>\n",
       "      <td>23.682755</td>\n",
       "      <td>22.723370</td>\n",
       "      <td>21.623560</td>\n",
       "      <td>21.197100</td>\n",
       "      <td>20.622955</td>\n",
       "    </tr>\n",
       "    <tr>\n",
       "      <th>75%</th>\n",
       "      <td>5.888489e+17</td>\n",
       "      <td>24.923278</td>\n",
       "      <td>23.348722</td>\n",
       "      <td>21.942227</td>\n",
       "      <td>21.695617</td>\n",
       "      <td>21.659965</td>\n",
       "    </tr>\n",
       "    <tr>\n",
       "      <th>max</th>\n",
       "      <td>5.888489e+17</td>\n",
       "      <td>30.228790</td>\n",
       "      <td>31.013420</td>\n",
       "      <td>23.297070</td>\n",
       "      <td>30.196820</td>\n",
       "      <td>29.166450</td>\n",
       "    </tr>\n",
       "  </tbody>\n",
       "</table>\n",
       "</div>"
      ],
      "text/plain": [
       "              objID           u           g           r           i  \\\n",
       "count  6.240000e+02  624.000000  624.000000  624.000000  624.000000   \n",
       "mean   5.888489e+17   24.071664   23.020400   21.599214   21.488588   \n",
       "std    7.491249e+04    1.591710    1.017580    0.543982    1.422116   \n",
       "min    5.888489e+17   22.012680   22.004320   18.470430   18.353240   \n",
       "25%    5.888489e+17   22.747073   22.391710   21.278022   20.744808   \n",
       "50%    5.888489e+17   23.682755   22.723370   21.623560   21.197100   \n",
       "75%    5.888489e+17   24.923278   23.348722   21.942227   21.695617   \n",
       "max    5.888489e+17   30.228790   31.013420   23.297070   30.196820   \n",
       "\n",
       "                z  \n",
       "count  624.000000  \n",
       "mean    21.043922  \n",
       "std      1.507475  \n",
       "min     18.060610  \n",
       "25%     20.075865  \n",
       "50%     20.622955  \n",
       "75%     21.659965  \n",
       "max     29.166450  "
      ]
     },
     "execution_count": 16,
     "metadata": {},
     "output_type": "execute_result"
    }
   ],
   "source": [
    "df[(df.u > 22) & (df.g > 22)].describe() # descrição dos dados cujo valor de *u* seja maior do que 22"
   ]
  },
  {
   "cell_type": "markdown",
   "metadata": {},
   "source": [
    "Algo muito útil é poder fatiar seus dados, separar apenas aquilo que interessa. Existem alguns modos de fatiar os dados (do inglês, **slice**), mas usaremos basicamente o comando .ix(). Para estudar os demais, consulte http://pandas.pydata.org/pandas-docs/stable/indexing.html"
   ]
  },
  {
   "cell_type": "code",
   "execution_count": 18,
   "metadata": {
    "collapsed": false
   },
   "outputs": [
    {
     "data": {
      "text/html": [
       "<div>\n",
       "<table border=\"1\" class=\"dataframe\">\n",
       "  <thead>\n",
       "    <tr style=\"text-align: right;\">\n",
       "      <th></th>\n",
       "      <th>u</th>\n",
       "      <th>g</th>\n",
       "      <th>r</th>\n",
       "      <th>i</th>\n",
       "      <th>z</th>\n",
       "    </tr>\n",
       "  </thead>\n",
       "  <tbody>\n",
       "    <tr>\n",
       "      <th>0</th>\n",
       "      <td>22.55218</td>\n",
       "      <td>21.08744</td>\n",
       "      <td>20.28041</td>\n",
       "      <td>20.04251</td>\n",
       "      <td>19.37127</td>\n",
       "    </tr>\n",
       "    <tr>\n",
       "      <th>1</th>\n",
       "      <td>22.67882</td>\n",
       "      <td>24.14491</td>\n",
       "      <td>21.37153</td>\n",
       "      <td>20.88683</td>\n",
       "      <td>21.16393</td>\n",
       "    </tr>\n",
       "    <tr>\n",
       "      <th>2</th>\n",
       "      <td>21.53908</td>\n",
       "      <td>22.09095</td>\n",
       "      <td>20.81463</td>\n",
       "      <td>19.83287</td>\n",
       "      <td>22.76383</td>\n",
       "    </tr>\n",
       "    <tr>\n",
       "      <th>3</th>\n",
       "      <td>22.57927</td>\n",
       "      <td>22.40949</td>\n",
       "      <td>21.69262</td>\n",
       "      <td>20.85991</td>\n",
       "      <td>19.54916</td>\n",
       "    </tr>\n",
       "    <tr>\n",
       "      <th>4</th>\n",
       "      <td>22.34326</td>\n",
       "      <td>22.47549</td>\n",
       "      <td>21.70187</td>\n",
       "      <td>21.27564</td>\n",
       "      <td>24.48958</td>\n",
       "    </tr>\n",
       "  </tbody>\n",
       "</table>\n",
       "</div>"
      ],
      "text/plain": [
       "          u         g         r         i         z\n",
       "0  22.55218  21.08744  20.28041  20.04251  19.37127\n",
       "1  22.67882  24.14491  21.37153  20.88683  21.16393\n",
       "2  21.53908  22.09095  20.81463  19.83287  22.76383\n",
       "3  22.57927  22.40949  21.69262  20.85991  19.54916\n",
       "4  22.34326  22.47549  21.70187  21.27564  24.48958"
      ]
     },
     "execution_count": 18,
     "metadata": {},
     "output_type": "execute_result"
    }
   ],
   "source": [
    "df1 = df.ix[:,1:] #selecionando todas as colunas a partir da coluna 1 (lembrando que a indexação do Python começa em 0)\n",
    "df1.head()"
   ]
  },
  {
   "cell_type": "code",
   "execution_count": 20,
   "metadata": {
    "collapsed": false
   },
   "outputs": [
    {
     "data": {
      "text/html": [
       "<div>\n",
       "<table border=\"1\" class=\"dataframe\">\n",
       "  <thead>\n",
       "    <tr style=\"text-align: right;\">\n",
       "      <th></th>\n",
       "      <th>u</th>\n",
       "      <th>r</th>\n",
       "      <th>z</th>\n",
       "    </tr>\n",
       "  </thead>\n",
       "  <tbody>\n",
       "    <tr>\n",
       "      <th>0</th>\n",
       "      <td>22.55218</td>\n",
       "      <td>20.28041</td>\n",
       "      <td>19.37127</td>\n",
       "    </tr>\n",
       "    <tr>\n",
       "      <th>1</th>\n",
       "      <td>22.67882</td>\n",
       "      <td>21.37153</td>\n",
       "      <td>21.16393</td>\n",
       "    </tr>\n",
       "    <tr>\n",
       "      <th>2</th>\n",
       "      <td>21.53908</td>\n",
       "      <td>20.81463</td>\n",
       "      <td>22.76383</td>\n",
       "    </tr>\n",
       "    <tr>\n",
       "      <th>3</th>\n",
       "      <td>22.57927</td>\n",
       "      <td>21.69262</td>\n",
       "      <td>19.54916</td>\n",
       "    </tr>\n",
       "    <tr>\n",
       "      <th>4</th>\n",
       "      <td>22.34326</td>\n",
       "      <td>21.70187</td>\n",
       "      <td>24.48958</td>\n",
       "    </tr>\n",
       "  </tbody>\n",
       "</table>\n",
       "</div>"
      ],
      "text/plain": [
       "          u         r         z\n",
       "0  22.55218  20.28041  19.37127\n",
       "1  22.67882  21.37153  21.16393\n",
       "2  21.53908  20.81463  22.76383\n",
       "3  22.57927  21.69262  19.54916\n",
       "4  22.34326  21.70187  24.48958"
      ]
     },
     "execution_count": 20,
     "metadata": {},
     "output_type": "execute_result"
    }
   ],
   "source": [
    "df2 = df.ix[:,(1,3,5)] #selecionando apenas as colunas 1, 3 e 5\n",
    "df2.head()"
   ]
  },
  {
   "cell_type": "code",
   "execution_count": 25,
   "metadata": {
    "collapsed": false
   },
   "outputs": [
    {
     "data": {
      "text/html": [
       "<div>\n",
       "<table border=\"1\" class=\"dataframe\">\n",
       "  <thead>\n",
       "    <tr style=\"text-align: right;\">\n",
       "      <th></th>\n",
       "      <th>u</th>\n",
       "      <th>r</th>\n",
       "      <th>z</th>\n",
       "    </tr>\n",
       "  </thead>\n",
       "  <tbody>\n",
       "    <tr>\n",
       "      <th>0</th>\n",
       "      <td>22.55218</td>\n",
       "      <td>20.28041</td>\n",
       "      <td>19.37127</td>\n",
       "    </tr>\n",
       "    <tr>\n",
       "      <th>1</th>\n",
       "      <td>22.67882</td>\n",
       "      <td>21.37153</td>\n",
       "      <td>21.16393</td>\n",
       "    </tr>\n",
       "    <tr>\n",
       "      <th>2</th>\n",
       "      <td>21.53908</td>\n",
       "      <td>20.81463</td>\n",
       "      <td>22.76383</td>\n",
       "    </tr>\n",
       "    <tr>\n",
       "      <th>3</th>\n",
       "      <td>22.57927</td>\n",
       "      <td>21.69262</td>\n",
       "      <td>19.54916</td>\n",
       "    </tr>\n",
       "    <tr>\n",
       "      <th>4</th>\n",
       "      <td>22.34326</td>\n",
       "      <td>21.70187</td>\n",
       "      <td>24.48958</td>\n",
       "    </tr>\n",
       "  </tbody>\n",
       "</table>\n",
       "</div>"
      ],
      "text/plain": [
       "          u         r         z\n",
       "0  22.55218  20.28041  19.37127\n",
       "1  22.67882  21.37153  21.16393\n",
       "2  21.53908  20.81463  22.76383\n",
       "3  22.57927  21.69262  19.54916\n",
       "4  22.34326  21.70187  24.48958"
      ]
     },
     "execution_count": 25,
     "metadata": {},
     "output_type": "execute_result"
    }
   ],
   "source": [
    "df3 = df.ix[:,('u','r','z')] #selecionando apenas as colunas 1, 3 e 5, mas utilizando o nome das colunas\n",
    "df3.head()"
   ]
  },
  {
   "cell_type": "code",
   "execution_count": 26,
   "metadata": {
    "collapsed": false
   },
   "outputs": [
    {
     "data": {
      "text/html": [
       "<div>\n",
       "<table border=\"1\" class=\"dataframe\">\n",
       "  <thead>\n",
       "    <tr style=\"text-align: right;\">\n",
       "      <th></th>\n",
       "      <th>objID</th>\n",
       "      <th>g</th>\n",
       "    </tr>\n",
       "  </thead>\n",
       "  <tbody>\n",
       "    <tr>\n",
       "      <th>0</th>\n",
       "      <td>588848900971299281</td>\n",
       "      <td>21.08744</td>\n",
       "    </tr>\n",
       "    <tr>\n",
       "      <th>1</th>\n",
       "      <td>588848900971299282</td>\n",
       "      <td>24.14491</td>\n",
       "    </tr>\n",
       "    <tr>\n",
       "      <th>2</th>\n",
       "      <td>588848900971299284</td>\n",
       "      <td>22.09095</td>\n",
       "    </tr>\n",
       "    <tr>\n",
       "      <th>3</th>\n",
       "      <td>588848900971299285</td>\n",
       "      <td>22.40949</td>\n",
       "    </tr>\n",
       "    <tr>\n",
       "      <th>4</th>\n",
       "      <td>588848900971299286</td>\n",
       "      <td>22.47549</td>\n",
       "    </tr>\n",
       "  </tbody>\n",
       "</table>\n",
       "</div>"
      ],
      "text/plain": [
       "                objID         g\n",
       "0  588848900971299281  21.08744\n",
       "1  588848900971299282  24.14491\n",
       "2  588848900971299284  22.09095\n",
       "3  588848900971299285  22.40949\n",
       "4  588848900971299286  22.47549"
      ]
     },
     "execution_count": 26,
     "metadata": {},
     "output_type": "execute_result"
    }
   ],
   "source": [
    "df4 = df.ix[:,(0,2)]\n",
    "df4.head()"
   ]
  },
  {
   "cell_type": "markdown",
   "metadata": {},
   "source": [
    "Ainda, podemos fazer o contrário, juntar dados num mesmo dataframe. Para ter toda a documentação de concatenação, fusão e junção de dados, consulte http://pandas.pydata.org/pandas-docs/stable/merging.html\n",
    "\n",
    "Se os dados não possuem nenhuma coluna em comum, podemos utilizar o comando **join()**"
   ]
  },
  {
   "cell_type": "code",
   "execution_count": 27,
   "metadata": {
    "collapsed": false
   },
   "outputs": [
    {
     "data": {
      "text/html": [
       "<div>\n",
       "<table border=\"1\" class=\"dataframe\">\n",
       "  <thead>\n",
       "    <tr style=\"text-align: right;\">\n",
       "      <th></th>\n",
       "      <th>objID</th>\n",
       "      <th>g</th>\n",
       "    </tr>\n",
       "  </thead>\n",
       "  <tbody>\n",
       "    <tr>\n",
       "      <th>0</th>\n",
       "      <td>588848900971299281</td>\n",
       "      <td>21.08744</td>\n",
       "    </tr>\n",
       "    <tr>\n",
       "      <th>1</th>\n",
       "      <td>588848900971299282</td>\n",
       "      <td>24.14491</td>\n",
       "    </tr>\n",
       "    <tr>\n",
       "      <th>2</th>\n",
       "      <td>588848900971299284</td>\n",
       "      <td>22.09095</td>\n",
       "    </tr>\n",
       "    <tr>\n",
       "      <th>3</th>\n",
       "      <td>588848900971299285</td>\n",
       "      <td>22.40949</td>\n",
       "    </tr>\n",
       "    <tr>\n",
       "      <th>4</th>\n",
       "      <td>588848900971299286</td>\n",
       "      <td>22.47549</td>\n",
       "    </tr>\n",
       "  </tbody>\n",
       "</table>\n",
       "</div>"
      ],
      "text/plain": [
       "                objID         g\n",
       "0  588848900971299281  21.08744\n",
       "1  588848900971299282  24.14491\n",
       "2  588848900971299284  22.09095\n",
       "3  588848900971299285  22.40949\n",
       "4  588848900971299286  22.47549"
      ]
     },
     "execution_count": 27,
     "metadata": {},
     "output_type": "execute_result"
    }
   ],
   "source": [
    "df4.head()"
   ]
  },
  {
   "cell_type": "code",
   "execution_count": 28,
   "metadata": {
    "collapsed": false
   },
   "outputs": [
    {
     "data": {
      "text/html": [
       "<div>\n",
       "<table border=\"1\" class=\"dataframe\">\n",
       "  <thead>\n",
       "    <tr style=\"text-align: right;\">\n",
       "      <th></th>\n",
       "      <th>u</th>\n",
       "      <th>r</th>\n",
       "      <th>z</th>\n",
       "    </tr>\n",
       "  </thead>\n",
       "  <tbody>\n",
       "    <tr>\n",
       "      <th>0</th>\n",
       "      <td>22.55218</td>\n",
       "      <td>20.28041</td>\n",
       "      <td>19.37127</td>\n",
       "    </tr>\n",
       "    <tr>\n",
       "      <th>1</th>\n",
       "      <td>22.67882</td>\n",
       "      <td>21.37153</td>\n",
       "      <td>21.16393</td>\n",
       "    </tr>\n",
       "    <tr>\n",
       "      <th>2</th>\n",
       "      <td>21.53908</td>\n",
       "      <td>20.81463</td>\n",
       "      <td>22.76383</td>\n",
       "    </tr>\n",
       "    <tr>\n",
       "      <th>3</th>\n",
       "      <td>22.57927</td>\n",
       "      <td>21.69262</td>\n",
       "      <td>19.54916</td>\n",
       "    </tr>\n",
       "    <tr>\n",
       "      <th>4</th>\n",
       "      <td>22.34326</td>\n",
       "      <td>21.70187</td>\n",
       "      <td>24.48958</td>\n",
       "    </tr>\n",
       "  </tbody>\n",
       "</table>\n",
       "</div>"
      ],
      "text/plain": [
       "          u         r         z\n",
       "0  22.55218  20.28041  19.37127\n",
       "1  22.67882  21.37153  21.16393\n",
       "2  21.53908  20.81463  22.76383\n",
       "3  22.57927  21.69262  19.54916\n",
       "4  22.34326  21.70187  24.48958"
      ]
     },
     "execution_count": 28,
     "metadata": {},
     "output_type": "execute_result"
    }
   ],
   "source": [
    "df3.head()"
   ]
  },
  {
   "cell_type": "code",
   "execution_count": 29,
   "metadata": {
    "collapsed": false
   },
   "outputs": [
    {
     "data": {
      "text/html": [
       "<div>\n",
       "<table border=\"1\" class=\"dataframe\">\n",
       "  <thead>\n",
       "    <tr style=\"text-align: right;\">\n",
       "      <th></th>\n",
       "      <th>objID</th>\n",
       "      <th>g</th>\n",
       "      <th>u</th>\n",
       "      <th>r</th>\n",
       "      <th>z</th>\n",
       "    </tr>\n",
       "  </thead>\n",
       "  <tbody>\n",
       "    <tr>\n",
       "      <th>0</th>\n",
       "      <td>588848900971299281</td>\n",
       "      <td>21.08744</td>\n",
       "      <td>22.55218</td>\n",
       "      <td>20.28041</td>\n",
       "      <td>19.37127</td>\n",
       "    </tr>\n",
       "    <tr>\n",
       "      <th>1</th>\n",
       "      <td>588848900971299282</td>\n",
       "      <td>24.14491</td>\n",
       "      <td>22.67882</td>\n",
       "      <td>21.37153</td>\n",
       "      <td>21.16393</td>\n",
       "    </tr>\n",
       "    <tr>\n",
       "      <th>2</th>\n",
       "      <td>588848900971299284</td>\n",
       "      <td>22.09095</td>\n",
       "      <td>21.53908</td>\n",
       "      <td>20.81463</td>\n",
       "      <td>22.76383</td>\n",
       "    </tr>\n",
       "    <tr>\n",
       "      <th>3</th>\n",
       "      <td>588848900971299285</td>\n",
       "      <td>22.40949</td>\n",
       "      <td>22.57927</td>\n",
       "      <td>21.69262</td>\n",
       "      <td>19.54916</td>\n",
       "    </tr>\n",
       "    <tr>\n",
       "      <th>4</th>\n",
       "      <td>588848900971299286</td>\n",
       "      <td>22.47549</td>\n",
       "      <td>22.34326</td>\n",
       "      <td>21.70187</td>\n",
       "      <td>24.48958</td>\n",
       "    </tr>\n",
       "  </tbody>\n",
       "</table>\n",
       "</div>"
      ],
      "text/plain": [
       "                objID         g         u         r         z\n",
       "0  588848900971299281  21.08744  22.55218  20.28041  19.37127\n",
       "1  588848900971299282  24.14491  22.67882  21.37153  21.16393\n",
       "2  588848900971299284  22.09095  21.53908  20.81463  22.76383\n",
       "3  588848900971299285  22.40949  22.57927  21.69262  19.54916\n",
       "4  588848900971299286  22.47549  22.34326  21.70187  24.48958"
      ]
     },
     "execution_count": 29,
     "metadata": {},
     "output_type": "execute_result"
    }
   ],
   "source": [
    "df5 = df4.join(df3)\n",
    "df5.head()"
   ]
  },
  {
   "cell_type": "code",
   "execution_count": 30,
   "metadata": {
    "collapsed": false
   },
   "outputs": [
    {
     "data": {
      "text/html": [
       "<div>\n",
       "<table border=\"1\" class=\"dataframe\">\n",
       "  <thead>\n",
       "    <tr style=\"text-align: right;\">\n",
       "      <th></th>\n",
       "      <th>u</th>\n",
       "      <th>r</th>\n",
       "      <th>z</th>\n",
       "      <th>objID</th>\n",
       "      <th>g</th>\n",
       "    </tr>\n",
       "  </thead>\n",
       "  <tbody>\n",
       "    <tr>\n",
       "      <th>0</th>\n",
       "      <td>22.55218</td>\n",
       "      <td>20.28041</td>\n",
       "      <td>19.37127</td>\n",
       "      <td>588848900971299281</td>\n",
       "      <td>21.08744</td>\n",
       "    </tr>\n",
       "    <tr>\n",
       "      <th>1</th>\n",
       "      <td>22.67882</td>\n",
       "      <td>21.37153</td>\n",
       "      <td>21.16393</td>\n",
       "      <td>588848900971299282</td>\n",
       "      <td>24.14491</td>\n",
       "    </tr>\n",
       "    <tr>\n",
       "      <th>2</th>\n",
       "      <td>21.53908</td>\n",
       "      <td>20.81463</td>\n",
       "      <td>22.76383</td>\n",
       "      <td>588848900971299284</td>\n",
       "      <td>22.09095</td>\n",
       "    </tr>\n",
       "    <tr>\n",
       "      <th>3</th>\n",
       "      <td>22.57927</td>\n",
       "      <td>21.69262</td>\n",
       "      <td>19.54916</td>\n",
       "      <td>588848900971299285</td>\n",
       "      <td>22.40949</td>\n",
       "    </tr>\n",
       "    <tr>\n",
       "      <th>4</th>\n",
       "      <td>22.34326</td>\n",
       "      <td>21.70187</td>\n",
       "      <td>24.48958</td>\n",
       "      <td>588848900971299286</td>\n",
       "      <td>22.47549</td>\n",
       "    </tr>\n",
       "  </tbody>\n",
       "</table>\n",
       "</div>"
      ],
      "text/plain": [
       "          u         r         z               objID         g\n",
       "0  22.55218  20.28041  19.37127  588848900971299281  21.08744\n",
       "1  22.67882  21.37153  21.16393  588848900971299282  24.14491\n",
       "2  21.53908  20.81463  22.76383  588848900971299284  22.09095\n",
       "3  22.57927  21.69262  19.54916  588848900971299285  22.40949\n",
       "4  22.34326  21.70187  24.48958  588848900971299286  22.47549"
      ]
     },
     "execution_count": 30,
     "metadata": {},
     "output_type": "execute_result"
    }
   ],
   "source": [
    "df55 = df3.join(df4)\n",
    "df55.head()"
   ]
  },
  {
   "cell_type": "markdown",
   "metadata": {},
   "source": [
    "Outra opção é utilizar o **concat()**"
   ]
  },
  {
   "cell_type": "code",
   "execution_count": 31,
   "metadata": {
    "collapsed": false
   },
   "outputs": [
    {
     "data": {
      "text/html": [
       "<div>\n",
       "<table border=\"1\" class=\"dataframe\">\n",
       "  <thead>\n",
       "    <tr style=\"text-align: right;\">\n",
       "      <th></th>\n",
       "      <th>objID</th>\n",
       "      <th>g</th>\n",
       "      <th>u</th>\n",
       "      <th>r</th>\n",
       "      <th>z</th>\n",
       "    </tr>\n",
       "  </thead>\n",
       "  <tbody>\n",
       "    <tr>\n",
       "      <th>0</th>\n",
       "      <td>588848900971299281</td>\n",
       "      <td>21.08744</td>\n",
       "      <td>22.55218</td>\n",
       "      <td>20.28041</td>\n",
       "      <td>19.37127</td>\n",
       "    </tr>\n",
       "    <tr>\n",
       "      <th>1</th>\n",
       "      <td>588848900971299282</td>\n",
       "      <td>24.14491</td>\n",
       "      <td>22.67882</td>\n",
       "      <td>21.37153</td>\n",
       "      <td>21.16393</td>\n",
       "    </tr>\n",
       "    <tr>\n",
       "      <th>2</th>\n",
       "      <td>588848900971299284</td>\n",
       "      <td>22.09095</td>\n",
       "      <td>21.53908</td>\n",
       "      <td>20.81463</td>\n",
       "      <td>22.76383</td>\n",
       "    </tr>\n",
       "    <tr>\n",
       "      <th>3</th>\n",
       "      <td>588848900971299285</td>\n",
       "      <td>22.40949</td>\n",
       "      <td>22.57927</td>\n",
       "      <td>21.69262</td>\n",
       "      <td>19.54916</td>\n",
       "    </tr>\n",
       "    <tr>\n",
       "      <th>4</th>\n",
       "      <td>588848900971299286</td>\n",
       "      <td>22.47549</td>\n",
       "      <td>22.34326</td>\n",
       "      <td>21.70187</td>\n",
       "      <td>24.48958</td>\n",
       "    </tr>\n",
       "  </tbody>\n",
       "</table>\n",
       "</div>"
      ],
      "text/plain": [
       "                objID         g         u         r         z\n",
       "0  588848900971299281  21.08744  22.55218  20.28041  19.37127\n",
       "1  588848900971299282  24.14491  22.67882  21.37153  21.16393\n",
       "2  588848900971299284  22.09095  21.53908  20.81463  22.76383\n",
       "3  588848900971299285  22.40949  22.57927  21.69262  19.54916\n",
       "4  588848900971299286  22.47549  22.34326  21.70187  24.48958"
      ]
     },
     "execution_count": 31,
     "metadata": {},
     "output_type": "execute_result"
    }
   ],
   "source": [
    "df6 = pd.concat([df4,df3],axis=1) #axis=1 diz q a concatenação vai acontecer entre as colunas e não entre as linhas\n",
    "df6.head()"
   ]
  },
  {
   "cell_type": "code",
   "execution_count": 32,
   "metadata": {
    "collapsed": false
   },
   "outputs": [
    {
     "data": {
      "text/html": [
       "<div>\n",
       "<table border=\"1\" class=\"dataframe\">\n",
       "  <thead>\n",
       "    <tr style=\"text-align: right;\">\n",
       "      <th></th>\n",
       "      <th>u</th>\n",
       "      <th>r</th>\n",
       "      <th>z</th>\n",
       "      <th>objID</th>\n",
       "      <th>g</th>\n",
       "    </tr>\n",
       "  </thead>\n",
       "  <tbody>\n",
       "    <tr>\n",
       "      <th>0</th>\n",
       "      <td>22.55218</td>\n",
       "      <td>20.28041</td>\n",
       "      <td>19.37127</td>\n",
       "      <td>588848900971299281</td>\n",
       "      <td>21.08744</td>\n",
       "    </tr>\n",
       "    <tr>\n",
       "      <th>1</th>\n",
       "      <td>22.67882</td>\n",
       "      <td>21.37153</td>\n",
       "      <td>21.16393</td>\n",
       "      <td>588848900971299282</td>\n",
       "      <td>24.14491</td>\n",
       "    </tr>\n",
       "    <tr>\n",
       "      <th>2</th>\n",
       "      <td>21.53908</td>\n",
       "      <td>20.81463</td>\n",
       "      <td>22.76383</td>\n",
       "      <td>588848900971299284</td>\n",
       "      <td>22.09095</td>\n",
       "    </tr>\n",
       "    <tr>\n",
       "      <th>3</th>\n",
       "      <td>22.57927</td>\n",
       "      <td>21.69262</td>\n",
       "      <td>19.54916</td>\n",
       "      <td>588848900971299285</td>\n",
       "      <td>22.40949</td>\n",
       "    </tr>\n",
       "    <tr>\n",
       "      <th>4</th>\n",
       "      <td>22.34326</td>\n",
       "      <td>21.70187</td>\n",
       "      <td>24.48958</td>\n",
       "      <td>588848900971299286</td>\n",
       "      <td>22.47549</td>\n",
       "    </tr>\n",
       "  </tbody>\n",
       "</table>\n",
       "</div>"
      ],
      "text/plain": [
       "          u         r         z               objID         g\n",
       "0  22.55218  20.28041  19.37127  588848900971299281  21.08744\n",
       "1  22.67882  21.37153  21.16393  588848900971299282  24.14491\n",
       "2  21.53908  20.81463  22.76383  588848900971299284  22.09095\n",
       "3  22.57927  21.69262  19.54916  588848900971299285  22.40949\n",
       "4  22.34326  21.70187  24.48958  588848900971299286  22.47549"
      ]
     },
     "execution_count": 32,
     "metadata": {},
     "output_type": "execute_result"
    }
   ],
   "source": [
    "df66 = pd.concat([df3,df4], axis=1)\n",
    "df66.head()"
   ]
  },
  {
   "cell_type": "markdown",
   "metadata": {},
   "source": [
    "Quando os dataframes possuem ao menos uma coluna em comum, é possível utilizar o comando **merge()**"
   ]
  },
  {
   "cell_type": "code",
   "execution_count": 33,
   "metadata": {
    "collapsed": false
   },
   "outputs": [
    {
     "data": {
      "text/html": [
       "<div>\n",
       "<table border=\"1\" class=\"dataframe\">\n",
       "  <thead>\n",
       "    <tr style=\"text-align: right;\">\n",
       "      <th></th>\n",
       "      <th>u</th>\n",
       "      <th>g</th>\n",
       "      <th>r</th>\n",
       "      <th>i</th>\n",
       "      <th>z</th>\n",
       "    </tr>\n",
       "  </thead>\n",
       "  <tbody>\n",
       "    <tr>\n",
       "      <th>0</th>\n",
       "      <td>22.55218</td>\n",
       "      <td>21.08744</td>\n",
       "      <td>20.28041</td>\n",
       "      <td>20.04251</td>\n",
       "      <td>19.37127</td>\n",
       "    </tr>\n",
       "    <tr>\n",
       "      <th>1</th>\n",
       "      <td>22.67882</td>\n",
       "      <td>24.14491</td>\n",
       "      <td>21.37153</td>\n",
       "      <td>20.88683</td>\n",
       "      <td>21.16393</td>\n",
       "    </tr>\n",
       "    <tr>\n",
       "      <th>2</th>\n",
       "      <td>21.53908</td>\n",
       "      <td>22.09095</td>\n",
       "      <td>20.81463</td>\n",
       "      <td>19.83287</td>\n",
       "      <td>22.76383</td>\n",
       "    </tr>\n",
       "    <tr>\n",
       "      <th>3</th>\n",
       "      <td>22.57927</td>\n",
       "      <td>22.40949</td>\n",
       "      <td>21.69262</td>\n",
       "      <td>20.85991</td>\n",
       "      <td>19.54916</td>\n",
       "    </tr>\n",
       "    <tr>\n",
       "      <th>4</th>\n",
       "      <td>22.34326</td>\n",
       "      <td>22.47549</td>\n",
       "      <td>21.70187</td>\n",
       "      <td>21.27564</td>\n",
       "      <td>24.48958</td>\n",
       "    </tr>\n",
       "  </tbody>\n",
       "</table>\n",
       "</div>"
      ],
      "text/plain": [
       "          u         g         r         i         z\n",
       "0  22.55218  21.08744  20.28041  20.04251  19.37127\n",
       "1  22.67882  24.14491  21.37153  20.88683  21.16393\n",
       "2  21.53908  22.09095  20.81463  19.83287  22.76383\n",
       "3  22.57927  22.40949  21.69262  20.85991  19.54916\n",
       "4  22.34326  22.47549  21.70187  21.27564  24.48958"
      ]
     },
     "execution_count": 33,
     "metadata": {},
     "output_type": "execute_result"
    }
   ],
   "source": [
    "df1.head()"
   ]
  },
  {
   "cell_type": "code",
   "execution_count": 34,
   "metadata": {
    "collapsed": false
   },
   "outputs": [
    {
     "data": {
      "text/html": [
       "<div>\n",
       "<table border=\"1\" class=\"dataframe\">\n",
       "  <thead>\n",
       "    <tr style=\"text-align: right;\">\n",
       "      <th></th>\n",
       "      <th>objID</th>\n",
       "      <th>g</th>\n",
       "    </tr>\n",
       "  </thead>\n",
       "  <tbody>\n",
       "    <tr>\n",
       "      <th>0</th>\n",
       "      <td>588848900971299281</td>\n",
       "      <td>21.08744</td>\n",
       "    </tr>\n",
       "    <tr>\n",
       "      <th>1</th>\n",
       "      <td>588848900971299282</td>\n",
       "      <td>24.14491</td>\n",
       "    </tr>\n",
       "    <tr>\n",
       "      <th>2</th>\n",
       "      <td>588848900971299284</td>\n",
       "      <td>22.09095</td>\n",
       "    </tr>\n",
       "    <tr>\n",
       "      <th>3</th>\n",
       "      <td>588848900971299285</td>\n",
       "      <td>22.40949</td>\n",
       "    </tr>\n",
       "    <tr>\n",
       "      <th>4</th>\n",
       "      <td>588848900971299286</td>\n",
       "      <td>22.47549</td>\n",
       "    </tr>\n",
       "  </tbody>\n",
       "</table>\n",
       "</div>"
      ],
      "text/plain": [
       "                objID         g\n",
       "0  588848900971299281  21.08744\n",
       "1  588848900971299282  24.14491\n",
       "2  588848900971299284  22.09095\n",
       "3  588848900971299285  22.40949\n",
       "4  588848900971299286  22.47549"
      ]
     },
     "execution_count": 34,
     "metadata": {},
     "output_type": "execute_result"
    }
   ],
   "source": [
    "df4.head()"
   ]
  },
  {
   "cell_type": "code",
   "execution_count": 35,
   "metadata": {
    "collapsed": false
   },
   "outputs": [
    {
     "data": {
      "text/html": [
       "<div>\n",
       "<table border=\"1\" class=\"dataframe\">\n",
       "  <thead>\n",
       "    <tr style=\"text-align: right;\">\n",
       "      <th></th>\n",
       "      <th>u</th>\n",
       "      <th>g</th>\n",
       "      <th>r</th>\n",
       "      <th>i</th>\n",
       "      <th>z</th>\n",
       "      <th>objID</th>\n",
       "    </tr>\n",
       "  </thead>\n",
       "  <tbody>\n",
       "    <tr>\n",
       "      <th>0</th>\n",
       "      <td>22.55218</td>\n",
       "      <td>21.08744</td>\n",
       "      <td>20.28041</td>\n",
       "      <td>20.04251</td>\n",
       "      <td>19.37127</td>\n",
       "      <td>588848900971299281</td>\n",
       "    </tr>\n",
       "    <tr>\n",
       "      <th>1</th>\n",
       "      <td>22.67882</td>\n",
       "      <td>24.14491</td>\n",
       "      <td>21.37153</td>\n",
       "      <td>20.88683</td>\n",
       "      <td>21.16393</td>\n",
       "      <td>588848900971299282</td>\n",
       "    </tr>\n",
       "    <tr>\n",
       "      <th>2</th>\n",
       "      <td>21.53908</td>\n",
       "      <td>22.09095</td>\n",
       "      <td>20.81463</td>\n",
       "      <td>19.83287</td>\n",
       "      <td>22.76383</td>\n",
       "      <td>588848900971299284</td>\n",
       "    </tr>\n",
       "    <tr>\n",
       "      <th>3</th>\n",
       "      <td>22.57927</td>\n",
       "      <td>22.40949</td>\n",
       "      <td>21.69262</td>\n",
       "      <td>20.85991</td>\n",
       "      <td>19.54916</td>\n",
       "      <td>588848900971299285</td>\n",
       "    </tr>\n",
       "    <tr>\n",
       "      <th>4</th>\n",
       "      <td>22.34326</td>\n",
       "      <td>22.47549</td>\n",
       "      <td>21.70187</td>\n",
       "      <td>21.27564</td>\n",
       "      <td>24.48958</td>\n",
       "      <td>588848900971299286</td>\n",
       "    </tr>\n",
       "  </tbody>\n",
       "</table>\n",
       "</div>"
      ],
      "text/plain": [
       "          u         g         r         i         z               objID\n",
       "0  22.55218  21.08744  20.28041  20.04251  19.37127  588848900971299281\n",
       "1  22.67882  24.14491  21.37153  20.88683  21.16393  588848900971299282\n",
       "2  21.53908  22.09095  20.81463  19.83287  22.76383  588848900971299284\n",
       "3  22.57927  22.40949  21.69262  20.85991  19.54916  588848900971299285\n",
       "4  22.34326  22.47549  21.70187  21.27564  24.48958  588848900971299286"
      ]
     },
     "execution_count": 35,
     "metadata": {},
     "output_type": "execute_result"
    }
   ],
   "source": [
    "df7 = pd.merge(df1,df4) #perceba que a ordem altera o resultado\n",
    "df7.head()"
   ]
  },
  {
   "cell_type": "code",
   "execution_count": 36,
   "metadata": {
    "collapsed": false
   },
   "outputs": [
    {
     "data": {
      "text/html": [
       "<div>\n",
       "<table border=\"1\" class=\"dataframe\">\n",
       "  <thead>\n",
       "    <tr style=\"text-align: right;\">\n",
       "      <th></th>\n",
       "      <th>objID</th>\n",
       "      <th>g</th>\n",
       "      <th>u</th>\n",
       "      <th>r</th>\n",
       "      <th>i</th>\n",
       "      <th>z</th>\n",
       "    </tr>\n",
       "  </thead>\n",
       "  <tbody>\n",
       "    <tr>\n",
       "      <th>0</th>\n",
       "      <td>588848900971299281</td>\n",
       "      <td>21.08744</td>\n",
       "      <td>22.55218</td>\n",
       "      <td>20.28041</td>\n",
       "      <td>20.04251</td>\n",
       "      <td>19.37127</td>\n",
       "    </tr>\n",
       "    <tr>\n",
       "      <th>1</th>\n",
       "      <td>588848900971299282</td>\n",
       "      <td>24.14491</td>\n",
       "      <td>22.67882</td>\n",
       "      <td>21.37153</td>\n",
       "      <td>20.88683</td>\n",
       "      <td>21.16393</td>\n",
       "    </tr>\n",
       "    <tr>\n",
       "      <th>2</th>\n",
       "      <td>588848900971299284</td>\n",
       "      <td>22.09095</td>\n",
       "      <td>21.53908</td>\n",
       "      <td>20.81463</td>\n",
       "      <td>19.83287</td>\n",
       "      <td>22.76383</td>\n",
       "    </tr>\n",
       "    <tr>\n",
       "      <th>3</th>\n",
       "      <td>588848900971299285</td>\n",
       "      <td>22.40949</td>\n",
       "      <td>22.57927</td>\n",
       "      <td>21.69262</td>\n",
       "      <td>20.85991</td>\n",
       "      <td>19.54916</td>\n",
       "    </tr>\n",
       "    <tr>\n",
       "      <th>4</th>\n",
       "      <td>588848900971299286</td>\n",
       "      <td>22.47549</td>\n",
       "      <td>22.34326</td>\n",
       "      <td>21.70187</td>\n",
       "      <td>21.27564</td>\n",
       "      <td>24.48958</td>\n",
       "    </tr>\n",
       "  </tbody>\n",
       "</table>\n",
       "</div>"
      ],
      "text/plain": [
       "                objID         g         u         r         i         z\n",
       "0  588848900971299281  21.08744  22.55218  20.28041  20.04251  19.37127\n",
       "1  588848900971299282  24.14491  22.67882  21.37153  20.88683  21.16393\n",
       "2  588848900971299284  22.09095  21.53908  20.81463  19.83287  22.76383\n",
       "3  588848900971299285  22.40949  22.57927  21.69262  20.85991  19.54916\n",
       "4  588848900971299286  22.47549  22.34326  21.70187  21.27564  24.48958"
      ]
     },
     "execution_count": 36,
     "metadata": {},
     "output_type": "execute_result"
    }
   ],
   "source": [
    "df8 = pd.merge(df4,df1) #perceba que a ordem altera o resultado\n",
    "df8.head()"
   ]
  },
  {
   "cell_type": "markdown",
   "metadata": {},
   "source": [
    "Podemos criar novas colunas a partir da manipulação de outras colunas"
   ]
  },
  {
   "cell_type": "code",
   "execution_count": 37,
   "metadata": {
    "collapsed": false
   },
   "outputs": [
    {
     "data": {
      "text/html": [
       "<div>\n",
       "<table border=\"1\" class=\"dataframe\">\n",
       "  <thead>\n",
       "    <tr style=\"text-align: right;\">\n",
       "      <th></th>\n",
       "      <th>objID</th>\n",
       "      <th>u</th>\n",
       "      <th>g</th>\n",
       "      <th>r</th>\n",
       "      <th>i</th>\n",
       "      <th>z</th>\n",
       "      <th>gr</th>\n",
       "    </tr>\n",
       "  </thead>\n",
       "  <tbody>\n",
       "    <tr>\n",
       "      <th>0</th>\n",
       "      <td>588848900971299281</td>\n",
       "      <td>22.55218</td>\n",
       "      <td>21.08744</td>\n",
       "      <td>20.28041</td>\n",
       "      <td>20.04251</td>\n",
       "      <td>19.37127</td>\n",
       "      <td>0.80703</td>\n",
       "    </tr>\n",
       "    <tr>\n",
       "      <th>1</th>\n",
       "      <td>588848900971299282</td>\n",
       "      <td>22.67882</td>\n",
       "      <td>24.14491</td>\n",
       "      <td>21.37153</td>\n",
       "      <td>20.88683</td>\n",
       "      <td>21.16393</td>\n",
       "      <td>2.77338</td>\n",
       "    </tr>\n",
       "    <tr>\n",
       "      <th>2</th>\n",
       "      <td>588848900971299284</td>\n",
       "      <td>21.53908</td>\n",
       "      <td>22.09095</td>\n",
       "      <td>20.81463</td>\n",
       "      <td>19.83287</td>\n",
       "      <td>22.76383</td>\n",
       "      <td>1.27632</td>\n",
       "    </tr>\n",
       "    <tr>\n",
       "      <th>3</th>\n",
       "      <td>588848900971299285</td>\n",
       "      <td>22.57927</td>\n",
       "      <td>22.40949</td>\n",
       "      <td>21.69262</td>\n",
       "      <td>20.85991</td>\n",
       "      <td>19.54916</td>\n",
       "      <td>0.71687</td>\n",
       "    </tr>\n",
       "    <tr>\n",
       "      <th>4</th>\n",
       "      <td>588848900971299286</td>\n",
       "      <td>22.34326</td>\n",
       "      <td>22.47549</td>\n",
       "      <td>21.70187</td>\n",
       "      <td>21.27564</td>\n",
       "      <td>24.48958</td>\n",
       "      <td>0.77362</td>\n",
       "    </tr>\n",
       "  </tbody>\n",
       "</table>\n",
       "</div>"
      ],
      "text/plain": [
       "                objID         u         g         r         i         z  \\\n",
       "0  588848900971299281  22.55218  21.08744  20.28041  20.04251  19.37127   \n",
       "1  588848900971299282  22.67882  24.14491  21.37153  20.88683  21.16393   \n",
       "2  588848900971299284  21.53908  22.09095  20.81463  19.83287  22.76383   \n",
       "3  588848900971299285  22.57927  22.40949  21.69262  20.85991  19.54916   \n",
       "4  588848900971299286  22.34326  22.47549  21.70187  21.27564  24.48958   \n",
       "\n",
       "        gr  \n",
       "0  0.80703  \n",
       "1  2.77338  \n",
       "2  1.27632  \n",
       "3  0.71687  \n",
       "4  0.77362  "
      ]
     },
     "execution_count": 37,
     "metadata": {},
     "output_type": "execute_result"
    }
   ],
   "source": [
    "df['gr'] = df.g - df.r\n",
    "df.head()"
   ]
  },
  {
   "cell_type": "code",
   "execution_count": 38,
   "metadata": {
    "collapsed": false
   },
   "outputs": [
    {
     "data": {
      "text/html": [
       "<div>\n",
       "<table border=\"1\" class=\"dataframe\">\n",
       "  <thead>\n",
       "    <tr style=\"text-align: right;\">\n",
       "      <th></th>\n",
       "      <th>objID</th>\n",
       "      <th>u</th>\n",
       "      <th>g</th>\n",
       "      <th>r</th>\n",
       "      <th>i</th>\n",
       "      <th>z</th>\n",
       "      <th>gr</th>\n",
       "      <th>ri</th>\n",
       "    </tr>\n",
       "  </thead>\n",
       "  <tbody>\n",
       "    <tr>\n",
       "      <th>0</th>\n",
       "      <td>588848900971299281</td>\n",
       "      <td>22.55218</td>\n",
       "      <td>21.08744</td>\n",
       "      <td>20.28041</td>\n",
       "      <td>20.04251</td>\n",
       "      <td>19.37127</td>\n",
       "      <td>0.80703</td>\n",
       "      <td>0.23790</td>\n",
       "    </tr>\n",
       "    <tr>\n",
       "      <th>1</th>\n",
       "      <td>588848900971299282</td>\n",
       "      <td>22.67882</td>\n",
       "      <td>24.14491</td>\n",
       "      <td>21.37153</td>\n",
       "      <td>20.88683</td>\n",
       "      <td>21.16393</td>\n",
       "      <td>2.77338</td>\n",
       "      <td>0.48470</td>\n",
       "    </tr>\n",
       "    <tr>\n",
       "      <th>2</th>\n",
       "      <td>588848900971299284</td>\n",
       "      <td>21.53908</td>\n",
       "      <td>22.09095</td>\n",
       "      <td>20.81463</td>\n",
       "      <td>19.83287</td>\n",
       "      <td>22.76383</td>\n",
       "      <td>1.27632</td>\n",
       "      <td>0.98176</td>\n",
       "    </tr>\n",
       "    <tr>\n",
       "      <th>3</th>\n",
       "      <td>588848900971299285</td>\n",
       "      <td>22.57927</td>\n",
       "      <td>22.40949</td>\n",
       "      <td>21.69262</td>\n",
       "      <td>20.85991</td>\n",
       "      <td>19.54916</td>\n",
       "      <td>0.71687</td>\n",
       "      <td>0.83271</td>\n",
       "    </tr>\n",
       "    <tr>\n",
       "      <th>4</th>\n",
       "      <td>588848900971299286</td>\n",
       "      <td>22.34326</td>\n",
       "      <td>22.47549</td>\n",
       "      <td>21.70187</td>\n",
       "      <td>21.27564</td>\n",
       "      <td>24.48958</td>\n",
       "      <td>0.77362</td>\n",
       "      <td>0.42623</td>\n",
       "    </tr>\n",
       "  </tbody>\n",
       "</table>\n",
       "</div>"
      ],
      "text/plain": [
       "                objID         u         g         r         i         z  \\\n",
       "0  588848900971299281  22.55218  21.08744  20.28041  20.04251  19.37127   \n",
       "1  588848900971299282  22.67882  24.14491  21.37153  20.88683  21.16393   \n",
       "2  588848900971299284  21.53908  22.09095  20.81463  19.83287  22.76383   \n",
       "3  588848900971299285  22.57927  22.40949  21.69262  20.85991  19.54916   \n",
       "4  588848900971299286  22.34326  22.47549  21.70187  21.27564  24.48958   \n",
       "\n",
       "        gr       ri  \n",
       "0  0.80703  0.23790  \n",
       "1  2.77338  0.48470  \n",
       "2  1.27632  0.98176  \n",
       "3  0.71687  0.83271  \n",
       "4  0.77362  0.42623  "
      ]
     },
     "execution_count": 38,
     "metadata": {},
     "output_type": "execute_result"
    }
   ],
   "source": [
    "df['ri'] = df.r - df.i\n",
    "df.head()"
   ]
  },
  {
   "cell_type": "code",
   "execution_count": 39,
   "metadata": {
    "collapsed": false
   },
   "outputs": [
    {
     "data": {
      "text/html": [
       "<div>\n",
       "<table border=\"1\" class=\"dataframe\">\n",
       "  <thead>\n",
       "    <tr style=\"text-align: right;\">\n",
       "      <th></th>\n",
       "      <th>objID</th>\n",
       "      <th>u</th>\n",
       "      <th>g</th>\n",
       "      <th>r</th>\n",
       "      <th>i</th>\n",
       "      <th>z</th>\n",
       "      <th>gr</th>\n",
       "      <th>ri</th>\n",
       "      <th>ur</th>\n",
       "    </tr>\n",
       "  </thead>\n",
       "  <tbody>\n",
       "    <tr>\n",
       "      <th>0</th>\n",
       "      <td>588848900971299281</td>\n",
       "      <td>22.55218</td>\n",
       "      <td>21.08744</td>\n",
       "      <td>20.28041</td>\n",
       "      <td>20.04251</td>\n",
       "      <td>19.37127</td>\n",
       "      <td>0.80703</td>\n",
       "      <td>0.23790</td>\n",
       "      <td>2.27177</td>\n",
       "    </tr>\n",
       "    <tr>\n",
       "      <th>1</th>\n",
       "      <td>588848900971299282</td>\n",
       "      <td>22.67882</td>\n",
       "      <td>24.14491</td>\n",
       "      <td>21.37153</td>\n",
       "      <td>20.88683</td>\n",
       "      <td>21.16393</td>\n",
       "      <td>2.77338</td>\n",
       "      <td>0.48470</td>\n",
       "      <td>1.30729</td>\n",
       "    </tr>\n",
       "    <tr>\n",
       "      <th>2</th>\n",
       "      <td>588848900971299284</td>\n",
       "      <td>21.53908</td>\n",
       "      <td>22.09095</td>\n",
       "      <td>20.81463</td>\n",
       "      <td>19.83287</td>\n",
       "      <td>22.76383</td>\n",
       "      <td>1.27632</td>\n",
       "      <td>0.98176</td>\n",
       "      <td>0.72445</td>\n",
       "    </tr>\n",
       "    <tr>\n",
       "      <th>3</th>\n",
       "      <td>588848900971299285</td>\n",
       "      <td>22.57927</td>\n",
       "      <td>22.40949</td>\n",
       "      <td>21.69262</td>\n",
       "      <td>20.85991</td>\n",
       "      <td>19.54916</td>\n",
       "      <td>0.71687</td>\n",
       "      <td>0.83271</td>\n",
       "      <td>0.88665</td>\n",
       "    </tr>\n",
       "    <tr>\n",
       "      <th>4</th>\n",
       "      <td>588848900971299286</td>\n",
       "      <td>22.34326</td>\n",
       "      <td>22.47549</td>\n",
       "      <td>21.70187</td>\n",
       "      <td>21.27564</td>\n",
       "      <td>24.48958</td>\n",
       "      <td>0.77362</td>\n",
       "      <td>0.42623</td>\n",
       "      <td>0.64139</td>\n",
       "    </tr>\n",
       "  </tbody>\n",
       "</table>\n",
       "</div>"
      ],
      "text/plain": [
       "                objID         u         g         r         i         z  \\\n",
       "0  588848900971299281  22.55218  21.08744  20.28041  20.04251  19.37127   \n",
       "1  588848900971299282  22.67882  24.14491  21.37153  20.88683  21.16393   \n",
       "2  588848900971299284  21.53908  22.09095  20.81463  19.83287  22.76383   \n",
       "3  588848900971299285  22.57927  22.40949  21.69262  20.85991  19.54916   \n",
       "4  588848900971299286  22.34326  22.47549  21.70187  21.27564  24.48958   \n",
       "\n",
       "        gr       ri       ur  \n",
       "0  0.80703  0.23790  2.27177  \n",
       "1  2.77338  0.48470  1.30729  \n",
       "2  1.27632  0.98176  0.72445  \n",
       "3  0.71687  0.83271  0.88665  \n",
       "4  0.77362  0.42623  0.64139  "
      ]
     },
     "execution_count": 39,
     "metadata": {},
     "output_type": "execute_result"
    }
   ],
   "source": [
    "df['ur'] = df.u - df.r\n",
    "df.head()"
   ]
  },
  {
   "cell_type": "markdown",
   "metadata": {},
   "source": [
    "## Estatísticas básicas\n",
    "\n",
    "\n",
    "O pandas permite ainda algumas estatísticas básicas bastante úteis, como **média**, **desvio padrão**, **soma**, **valor máximo**. Um rápida referência pode ser encontrada em http://pandas.pydata.org/pandas-docs/stable/basics.html#descriptive-statistics"
   ]
  },
  {
   "cell_type": "code",
   "execution_count": 40,
   "metadata": {
    "collapsed": false
   },
   "outputs": [
    {
     "data": {
      "text/plain": [
       "objID    5.888489e+17\n",
       "u        2.349442e+01\n",
       "g        2.242135e+01\n",
       "r        2.116289e+01\n",
       "i        2.107045e+01\n",
       "z        2.060318e+01\n",
       "gr       1.258461e+00\n",
       "ri       9.243877e-02\n",
       "ur       2.331531e+00\n",
       "dtype: float64"
      ]
     },
     "execution_count": 40,
     "metadata": {},
     "output_type": "execute_result"
    }
   ],
   "source": [
    "df.mean() # valor médio de todas as colunas do seu dataframe"
   ]
  },
  {
   "cell_type": "code",
   "execution_count": 41,
   "metadata": {
    "collapsed": false
   },
   "outputs": [
    {
     "data": {
      "text/plain": [
       "u    23.494416\n",
       "r    21.162885\n",
       "z    20.603184\n",
       "dtype: float64"
      ]
     },
     "execution_count": 41,
     "metadata": {},
     "output_type": "execute_result"
    }
   ],
   "source": [
    "df3.mean()"
   ]
  },
  {
   "cell_type": "code",
   "execution_count": 42,
   "metadata": {
    "collapsed": false
   },
   "outputs": [
    {
     "data": {
      "text/plain": [
       "21.16288531000002"
      ]
     },
     "execution_count": 42,
     "metadata": {},
     "output_type": "execute_result"
    }
   ],
   "source": [
    "df.r.mean()"
   ]
  },
  {
   "cell_type": "code",
   "execution_count": 43,
   "metadata": {
    "collapsed": false
   },
   "outputs": [
    {
     "data": {
      "text/plain": [
       "21.16288531000002"
      ]
     },
     "execution_count": 43,
     "metadata": {},
     "output_type": "execute_result"
    }
   ],
   "source": [
    "df['r'].mean()"
   ]
  },
  {
   "cell_type": "code",
   "execution_count": 44,
   "metadata": {
    "collapsed": false
   },
   "outputs": [
    {
     "data": {
      "text/plain": [
       "21.16288531000002"
      ]
     },
     "execution_count": 44,
     "metadata": {},
     "output_type": "execute_result"
    }
   ],
   "source": [
    "df3.r.mean()"
   ]
  },
  {
   "cell_type": "markdown",
   "metadata": {},
   "source": [
    "df.median()"
   ]
  },
  {
   "cell_type": "code",
   "execution_count": 49,
   "metadata": {
    "collapsed": false
   },
   "outputs": [
    {
     "name": "stdout",
     "output_type": "stream",
     "text": [
      "21.16288531\n"
     ]
    }
   ],
   "source": [
    "media_r = df.r.mean()\n",
    "print(media_r)\n",
    "a=2"
   ]
  },
  {
   "cell_type": "code",
   "execution_count": 50,
   "metadata": {
    "collapsed": false
   },
   "outputs": [
    {
     "data": {
      "text/plain": [
       "objID    5.888489e+17\n",
       "u        3.090253e+01\n",
       "g        3.101342e+01\n",
       "r        3.059296e+01\n",
       "i        3.147766e+01\n",
       "z        2.916645e+01\n",
       "gr       1.022839e+01\n",
       "ri       1.167700e+01\n",
       "ur       9.220200e+00\n",
       "dtype: float64"
      ]
     },
     "execution_count": 50,
     "metadata": {},
     "output_type": "execute_result"
    }
   ],
   "source": [
    "df.max() # calcula o valor maximo do dataframe"
   ]
  },
  {
   "cell_type": "code",
   "execution_count": 51,
   "metadata": {
    "collapsed": false
   },
   "outputs": [
    {
     "data": {
      "text/plain": [
       "10.228390000000001"
      ]
     },
     "execution_count": 51,
     "metadata": {},
     "output_type": "execute_result"
    }
   ],
   "source": [
    "df.gr.max()"
   ]
  },
  {
   "cell_type": "code",
   "execution_count": 52,
   "metadata": {
    "collapsed": false
   },
   "outputs": [
    {
     "data": {
      "text/plain": [
       "10.228390000000001"
      ]
     },
     "execution_count": 52,
     "metadata": {},
     "output_type": "execute_result"
    }
   ],
   "source": [
    "df.gr.max()"
   ]
  },
  {
   "cell_type": "code",
   "execution_count": 53,
   "metadata": {
    "collapsed": false
   },
   "outputs": [
    {
     "data": {
      "text/plain": [
       "-6.9825100000000049"
      ]
     },
     "execution_count": 53,
     "metadata": {},
     "output_type": "execute_result"
    }
   ],
   "source": [
    "df.gr.min()"
   ]
  },
  {
   "cell_type": "code",
   "execution_count": 54,
   "metadata": {
    "collapsed": false
   },
   "outputs": [
    {
     "data": {
      "text/plain": [
       "1.193176363880026"
      ]
     },
     "execution_count": 54,
     "metadata": {},
     "output_type": "execute_result"
    }
   ],
   "source": [
    "df.gr.var()"
   ]
  },
  {
   "cell_type": "markdown",
   "metadata": {},
   "source": [
    "## Primeiros gráficos\n",
    "\n",
    "Apesar de existir outros pacotes do python que fazem bem a tarefa de visualização de dados, o ***pandas*** pode ser bastante útil para fazer algumas análises rápidas.\n",
    "Podemos plotar as correlações entre os parâmetros, criar histrogramas, boxplots, diagramas de pizza..."
   ]
  },
  {
   "cell_type": "code",
   "execution_count": 57,
   "metadata": {
    "collapsed": false
   },
   "outputs": [
    {
     "data": {
      "text/plain": [
       "array([[<matplotlib.axes._subplots.AxesSubplot object at 0x1203247d0>,\n",
       "        <matplotlib.axes._subplots.AxesSubplot object at 0x120392850>,\n",
       "        <matplotlib.axes._subplots.AxesSubplot object at 0x1204c3cd0>,\n",
       "        <matplotlib.axes._subplots.AxesSubplot object at 0x12062e650>,\n",
       "        <matplotlib.axes._subplots.AxesSubplot object at 0x1206ac9d0>,\n",
       "        <matplotlib.axes._subplots.AxesSubplot object at 0x12065cf50>],\n",
       "       [<matplotlib.axes._subplots.AxesSubplot object at 0x12079d610>,\n",
       "        <matplotlib.axes._subplots.AxesSubplot object at 0x120a1e990>,\n",
       "        <matplotlib.axes._subplots.AxesSubplot object at 0x11e2d7a50>,\n",
       "        <matplotlib.axes._subplots.AxesSubplot object at 0x11bc28710>,\n",
       "        <matplotlib.axes._subplots.AxesSubplot object at 0x120a978d0>,\n",
       "        <matplotlib.axes._subplots.AxesSubplot object at 0x120b1d850>],\n",
       "       [<matplotlib.axes._subplots.AxesSubplot object at 0x120ba16d0>,\n",
       "        <matplotlib.axes._subplots.AxesSubplot object at 0x120c0f2d0>,\n",
       "        <matplotlib.axes._subplots.AxesSubplot object at 0x120c92150>,\n",
       "        <matplotlib.axes._subplots.AxesSubplot object at 0x120cf7190>,\n",
       "        <matplotlib.axes._subplots.AxesSubplot object at 0x120d7a110>,\n",
       "        <matplotlib.axes._subplots.AxesSubplot object at 0x120db0150>],\n",
       "       [<matplotlib.axes._subplots.AxesSubplot object at 0x120e5cf50>,\n",
       "        <matplotlib.axes._subplots.AxesSubplot object at 0x120ee0dd0>,\n",
       "        <matplotlib.axes._subplots.AxesSubplot object at 0x120f47f10>,\n",
       "        <matplotlib.axes._subplots.AxesSubplot object at 0x120fc8d90>,\n",
       "        <matplotlib.axes._subplots.AxesSubplot object at 0x121031a90>,\n",
       "        <matplotlib.axes._subplots.AxesSubplot object at 0x1210bcb90>],\n",
       "       [<matplotlib.axes._subplots.AxesSubplot object at 0x12113fa10>,\n",
       "        <matplotlib.axes._subplots.AxesSubplot object at 0x1211ae490>,\n",
       "        <matplotlib.axes._subplots.AxesSubplot object at 0x121331310>,\n",
       "        <matplotlib.axes._subplots.AxesSubplot object at 0x121396350>,\n",
       "        <matplotlib.axes._subplots.AxesSubplot object at 0x1214182d0>,\n",
       "        <matplotlib.axes._subplots.AxesSubplot object at 0x121450310>],\n",
       "       [<matplotlib.axes._subplots.AxesSubplot object at 0x12160d090>,\n",
       "        <matplotlib.axes._subplots.AxesSubplot object at 0x121681ed0>,\n",
       "        <matplotlib.axes._subplots.AxesSubplot object at 0x1216f21d0>,\n",
       "        <matplotlib.axes._subplots.AxesSubplot object at 0x121777050>,\n",
       "        <matplotlib.axes._subplots.AxesSubplot object at 0x1217d1d10>,\n",
       "        <matplotlib.axes._subplots.AxesSubplot object at 0x121859e10>]], dtype=object)"
      ]
     },
     "execution_count": 57,
     "metadata": {},
     "output_type": "execute_result"
    },
    {
     "data": {
      "image/png": "[encoded data removed]",
      "text/plain": [
       "<matplotlib.figure.Figure at 0x11fa0fa90>"
      ]
     },
     "metadata": {},
     "output_type": "display_data"
    }
   ],
   "source": [
    "df = df.ix[:,1:] #tirando a primeira coluna, que não tem informação útil\n",
    "pd.scatter_matrix(df) #fazendo os diagramas de dispersão de todos os parâmetros+histograma"
   ]
  },
  {
   "cell_type": "markdown",
   "metadata": {},
   "source": [
    "O comando **scatter_matrix()** não produz gráficos muito elegrantes, principalmente se seu dataframe possuir muitas colunas, mas traz um noção geral dos dados.\n",
    "\n",
    "Caso queira saber quais foram exatamente as correlações entre os parâmetros, pode-se usar o comando **corr()**"
   ]
  },
  {
   "cell_type": "code",
   "execution_count": 58,
   "metadata": {
    "collapsed": false
   },
   "outputs": [
    {
     "data": {
      "text/html": [
       "<div>\n",
       "<table border=\"1\" class=\"dataframe\">\n",
       "  <thead>\n",
       "    <tr style=\"text-align: right;\">\n",
       "      <th></th>\n",
       "      <th>r</th>\n",
       "      <th>i</th>\n",
       "      <th>z</th>\n",
       "      <th>gr</th>\n",
       "      <th>ri</th>\n",
       "      <th>ur</th>\n",
       "    </tr>\n",
       "  </thead>\n",
       "  <tbody>\n",
       "    <tr>\n",
       "      <th>r</th>\n",
       "      <td>1.000000</td>\n",
       "      <td>0.751534</td>\n",
       "      <td>0.705986</td>\n",
       "      <td>-0.144535</td>\n",
       "      <td>0.051741</td>\n",
       "      <td>-0.271944</td>\n",
       "    </tr>\n",
       "    <tr>\n",
       "      <th>i</th>\n",
       "      <td>0.751534</td>\n",
       "      <td>1.000000</td>\n",
       "      <td>0.684354</td>\n",
       "      <td>-0.062552</td>\n",
       "      <td>-0.538825</td>\n",
       "      <td>-0.214437</td>\n",
       "    </tr>\n",
       "    <tr>\n",
       "      <th>z</th>\n",
       "      <td>0.705986</td>\n",
       "      <td>0.684354</td>\n",
       "      <td>1.000000</td>\n",
       "      <td>-0.135227</td>\n",
       "      <td>-0.163478</td>\n",
       "      <td>-0.287139</td>\n",
       "    </tr>\n",
       "    <tr>\n",
       "      <th>gr</th>\n",
       "      <td>-0.144535</td>\n",
       "      <td>-0.062552</td>\n",
       "      <td>-0.135227</td>\n",
       "      <td>1.000000</td>\n",
       "      <td>-0.010070</td>\n",
       "      <td>0.183239</td>\n",
       "    </tr>\n",
       "    <tr>\n",
       "      <th>ri</th>\n",
       "      <td>0.051741</td>\n",
       "      <td>-0.538825</td>\n",
       "      <td>-0.163478</td>\n",
       "      <td>-0.010070</td>\n",
       "      <td>1.000000</td>\n",
       "      <td>0.012655</td>\n",
       "    </tr>\n",
       "    <tr>\n",
       "      <th>ur</th>\n",
       "      <td>-0.271944</td>\n",
       "      <td>-0.214437</td>\n",
       "      <td>-0.287139</td>\n",
       "      <td>0.183239</td>\n",
       "      <td>0.012655</td>\n",
       "      <td>1.000000</td>\n",
       "    </tr>\n",
       "  </tbody>\n",
       "</table>\n",
       "</div>"
      ],
      "text/plain": [
       "           r         i         z        gr        ri        ur\n",
       "r   1.000000  0.751534  0.705986 -0.144535  0.051741 -0.271944\n",
       "i   0.751534  1.000000  0.684354 -0.062552 -0.538825 -0.214437\n",
       "z   0.705986  0.684354  1.000000 -0.135227 -0.163478 -0.287139\n",
       "gr -0.144535 -0.062552 -0.135227  1.000000 -0.010070  0.183239\n",
       "ri  0.051741 -0.538825 -0.163478 -0.010070  1.000000  0.012655\n",
       "ur -0.271944 -0.214437 -0.287139  0.183239  0.012655  1.000000"
      ]
     },
     "execution_count": 58,
     "metadata": {},
     "output_type": "execute_result"
    }
   ],
   "source": [
    "df.corr(method='spearman') #method : {‘pearson’, ‘kendall’, ‘spearman’}"
   ]
  },
  {
   "cell_type": "markdown",
   "metadata": {
    "collapsed": true
   },
   "source": [
    "Para fazer os scatter_plot's individuais, podemos usar a função **plot()**, onde o parâmetro *kind* dirá o tipo de plot que queremos. Mais informações podem ser encontradas em http://pandas.pydata.org/pandas-docs/version/0.17.0/generated/pandas.DataFrame.plot.html#pandas.DataFrame.plot"
   ]
  },
  {
   "cell_type": "code",
   "execution_count": 62,
   "metadata": {
    "collapsed": false
   },
   "outputs": [
    {
     "data": {
      "text/plain": [
       "<matplotlib.axes._subplots.AxesSubplot at 0x122d45810>"
      ]
     },
     "execution_count": 62,
     "metadata": {},
     "output_type": "execute_result"
    },
    {
     "data": {
      "image/png": "[encoded data removed]",
      "text/plain": [
       "<matplotlib.figure.Figure at 0x122db6310>"
      ]
     },
     "metadata": {},
     "output_type": "display_data"
    }
   ],
   "source": [
    "df.plot(kind='scatter', x='i', y='ri')"
   ]
  },
  {
   "cell_type": "code",
   "execution_count": 65,
   "metadata": {
    "collapsed": false
   },
   "outputs": [
    {
     "data": {
      "text/plain": [
       "<matplotlib.axes._subplots.AxesSubplot at 0x1233d44d0>"
      ]
     },
     "execution_count": 65,
     "metadata": {},
     "output_type": "execute_result"
    },
    {
     "data": {
      "image/png": "[encoded data removed]",
      "text/plain": [
       "<matplotlib.figure.Figure at 0x123318250>"
      ]
     },
     "metadata": {},
     "output_type": "display_data"
    }
   ],
   "source": [
    "df.plot(kind='scatter', x='r', y='ur')"
   ]
  },
  {
   "cell_type": "markdown",
   "metadata": {},
   "source": [
    "Para fazer os histogramas, podemos fazê-los todos numa mesma janela com o **df.plot(kind='hist')** ou em janela distintas com o **df.hist()**"
   ]
  },
  {
   "cell_type": "code",
   "execution_count": 66,
   "metadata": {
    "collapsed": false
   },
   "outputs": [
    {
     "data": {
      "text/plain": [
       "<matplotlib.axes._subplots.AxesSubplot at 0x1235d4390>"
      ]
     },
     "execution_count": 66,
     "metadata": {},
     "output_type": "execute_result"
    },
    {
     "data": {
      "image/png": "[encoded data removed]",
      "text/plain": [
       "<matplotlib.figure.Figure at 0x12323fc10>"
      ]
     },
     "metadata": {},
     "output_type": "display_data"
    }
   ],
   "source": [
    "df.plot(kind='hist')"
   ]
  },
  {
   "cell_type": "code",
   "execution_count": 67,
   "metadata": {
    "collapsed": false
   },
   "outputs": [
    {
     "data": {
      "text/plain": [
       "array([[<matplotlib.axes._subplots.AxesSubplot object at 0x123a1b790>,\n",
       "        <matplotlib.axes._subplots.AxesSubplot object at 0x123d02090>],\n",
       "       [<matplotlib.axes._subplots.AxesSubplot object at 0x123d74fd0>,\n",
       "        <matplotlib.axes._subplots.AxesSubplot object at 0x123de35d0>],\n",
       "       [<matplotlib.axes._subplots.AxesSubplot object at 0x123e67790>,\n",
       "        <matplotlib.axes._subplots.AxesSubplot object at 0x123e07250>]], dtype=object)"
      ]
     },
     "execution_count": 67,
     "metadata": {},
     "output_type": "execute_result"
    },
    {
     "data": {
      "image/png": "[encoded data removed]",
      "text/plain": [
       "<matplotlib.figure.Figure at 0x1234d74d0>"
      ]
     },
     "metadata": {},
     "output_type": "display_data"
    }
   ],
   "source": [
    "df.hist()"
   ]
  },
  {
   "cell_type": "markdown",
   "metadata": {},
   "source": [
    "Para fazer o histograma de alguma coluna específica, podemos usar os mesmos comandos acima, mas especificando qual coluna usar"
   ]
  },
  {
   "cell_type": "code",
   "execution_count": 68,
   "metadata": {
    "collapsed": false
   },
   "outputs": [
    {
     "data": {
      "text/plain": [
       "<matplotlib.axes._subplots.AxesSubplot at 0x124c23650>"
      ]
     },
     "execution_count": 68,
     "metadata": {},
     "output_type": "execute_result"
    },
    {
     "data": {
      "image/png": "[encoded data removed]",
      "text/plain": [
       "<matplotlib.figure.Figure at 0x124c60b50>"
      ]
     },
     "metadata": {},
     "output_type": "display_data"
    }
   ],
   "source": [
    "df.gr.hist()"
   ]
  },
  {
   "cell_type": "code",
   "execution_count": 69,
   "metadata": {
    "collapsed": false
   },
   "outputs": [
    {
     "data": {
      "text/plain": [
       "<matplotlib.axes._subplots.AxesSubplot at 0x124e27990>"
      ]
     },
     "execution_count": 69,
     "metadata": {},
     "output_type": "execute_result"
    },
    {
     "data": {
      "image/png": "[encoded data removed]",
      "text/plain": [
       "<matplotlib.figure.Figure at 0x124e39150>"
      ]
     },
     "metadata": {},
     "output_type": "display_data"
    }
   ],
   "source": [
    "df.gr.plot(kind='hist')"
   ]
  },
  {
   "cell_type": "code",
   "execution_count": 72,
   "metadata": {
    "collapsed": false
   },
   "outputs": [
    {
     "data": {
      "text/plain": [
       "<matplotlib.axes._subplots.AxesSubplot at 0x124ff1650>"
      ]
     },
     "execution_count": 72,
     "metadata": {},
     "output_type": "execute_result"
    },
    {
     "data": {
      "image/png": "[encoded data removed]",
      "text/plain": [
       "<matplotlib.figure.Figure at 0x12557be10>"
      ]
     },
     "metadata": {},
     "output_type": "display_data"
    }
   ],
   "source": [
    "df.gr.plot(kind='box')"
   ]
  },
  {
   "cell_type": "code",
   "execution_count": 73,
   "metadata": {
    "collapsed": false
   },
   "outputs": [
    {
     "data": {
      "text/plain": [
       "<matplotlib.axes._subplots.AxesSubplot at 0x1255bff50>"
      ]
     },
     "execution_count": 73,
     "metadata": {},
     "output_type": "execute_result"
    },
    {
     "data": {
      "image/png": "[encoded data removed]",
      "text/plain": [
       "<matplotlib.figure.Figure at 0x1255d3a50>"
      ]
     },
     "metadata": {},
     "output_type": "display_data"
    }
   ],
   "source": [
    "df.gr.plot(kind='kde')"
   ]
  },
  {
   "cell_type": "markdown",
   "metadata": {
    "collapsed": true
   },
   "source": [
    "O **pandas** é um pacote muito poderoso, o que vimos aqui é só a *ponta do iceberg*, tem muito o que ser explorado. Entretanto, espero que essa breve introdução tenha servido para mostrar que esse pacote é muito *friendly* e bacana de trabalhar. Em uma pesquisa rápida no Google é possível encontrar materiais bem avançandos sobre ele."
   ]
  }
 ],
 "metadata": {
  "anaconda-cloud": {},
  "kernelspec": {
   "display_name": "Python [default]",
   "language": "python",
   "name": "python2"
  },
  "language_info": {
   "codemirror_mode": {
    "name": "ipython",
    "version": 2
   },
   "file_extension": ".py",
   "mimetype": "text/x-python",
   "name": "python",
   "nbconvert_exporter": "python",
   "pygments_lexer": "ipython2",
   "version": "2.7.12"
  }
 },
 "nbformat": 4,
 "nbformat_minor": 1
}
